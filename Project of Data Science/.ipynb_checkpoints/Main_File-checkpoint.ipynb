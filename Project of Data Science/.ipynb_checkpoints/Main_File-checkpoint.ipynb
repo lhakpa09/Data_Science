{
 "cells": [
  {
   "cell_type": "markdown",
   "id": "457caf38",
   "metadata": {},
   "source": [
    "__Importing Libraries & Importing Deep Learning Libraries__"
   ]
  },
  {
   "cell_type": "code",
   "execution_count": 1,
   "id": "3e5ae90e",
   "metadata": {},
   "outputs": [],
   "source": [
    "import numpy as np\n",
    "from tensorflow.keras.models import load_model\n",
    "import cv2\n",
    "from keras.preprocessing import image\n",
    "from keras.preprocessing.image import img_to_array\n",
    "from time import sleep"
   ]
  },
  {
   "cell_type": "code",
   "execution_count": 2,
   "id": "f5454968",
   "metadata": {},
   "outputs": [],
   "source": [
    "from playsound import playsound"
   ]
  },
  {
   "cell_type": "code",
   "execution_count": null,
   "id": "f81c3d2d",
   "metadata": {},
   "outputs": [
    {
     "name": "stderr",
     "output_type": "stream",
     "text": [
      "WARNING:absl:Compiled the loaded model, but the compiled metrics have yet to be built. `model.compile_metrics` will be empty until you train or evaluate the model.\n"
     ]
    },
    {
     "name": "stdout",
     "output_type": "stream",
     "text": [
      "\u001b[1m1/1\u001b[0m \u001b[32m━━━━━━━━━━━━━━━━━━━━\u001b[0m\u001b[37m\u001b[0m \u001b[1m1s\u001b[0m 1s/step\n"
     ]
    }
   ],
   "source": [
    "import cv2\n",
    "import numpy as np\n",
    "from keras.models import load_model\n",
    "from playsound import playsound\n",
    "import time\n",
    "\n",
    "# Load face cascade classifier\n",
    "face_classifier = cv2.CascadeClassifier(r\"C:\\Users\\ASUS\\Downloads\\haarcascade_frontalface_default.xml\")\n",
    "\n",
    "# Load emotion classification model\n",
    "classifier = load_model(r\"C:\\Users\\ASUS\\Downloads\\face_emotion_model.weights.h5\")\n",
    "\n",
    "# Define emotion labels and corresponding music tracks\n",
    "emotion_labels = ['surprise', 'sad', 'neutral', 'happy', 'fear', 'anger', 'disgust']\n",
    "\n",
    "# Define music tracks corresponding to each emotion\n",
    "music_tracks = {\n",
    "    'surprise': r\"C:\\Users\\ASUS\\OneDrive\\Desktop\\music\\surprise.mp3\",\n",
    "    'sad': r'C:\\Users\\ASUS\\OneDrive\\Desktop\\music\\sad.mp3',\n",
    "    'neutral': r'C:\\Users\\ASUS\\OneDrive\\Desktop\\music\\neutral.mp3',\n",
    "    'happy': r'C:\\Users\\ASUS\\OneDrive\\Desktop\\music\\happy.mp3',\n",
    "    'fear': r'C:\\Users\\ASUS\\OneDrive\\Desktop\\music\\fear.mp3',\n",
    "    'anger': r'C:\\Users\\ASUS\\OneDrive\\Desktop\\music\\anger.mp3',\n",
    "    'disgust': r'C:\\Users\\ASUS\\OneDrive\\Desktop\\music\\disgust.mp3'\n",
    "}\n",
    "\n",
    "# Open webcam\n",
    "cap = cv2.VideoCapture(0)\n",
    "\n",
    "# Check if the webcam is opened successfully\n",
    "if not cap.isOpened():\n",
    "    print(\"Error: Unable to open webcam.\")\n",
    "    exit()\n",
    "\n",
    "# Define the duration (in seconds) for which the program should run\n",
    "time_limit = 60  # Set time limit to 60 seconds (1 minute)\n",
    "start_time = time.time()  # Record the start time\n",
    "\n",
    "while True:\n",
    "    ret, frame = cap.read()  # Read frame from webcam\n",
    "\n",
    "    # Check if frame is read successfully\n",
    "    if not ret:\n",
    "        print(\"Error: Unable to read frame.\")\n",
    "        break\n",
    "\n",
    "    gray = cv2.cvtColor(frame, cv2.COLOR_BGR2GRAY)  # Convert frame to grayscale\n",
    "\n",
    "    # Detect faces in the grayscale frame\n",
    "    faces = face_classifier.detectMultiScale(gray, scaleFactor=1.1, minNeighbors=5, minSize=(30, 30))\n",
    "\n",
    "    for (x, y, w, h) in faces:\n",
    "        # Extract ROI (region of interest) for emotion classification\n",
    "        roi_gray = gray[y:y + h, x:x + w]\n",
    "        roi_gray = cv2.resize(roi_gray, (48, 48), interpolation=cv2.INTER_AREA)\n",
    "        roi = roi_gray.astype('float') / 255.0  # Normalize ROI\n",
    "        roi = np.expand_dims(roi, axis=0)  # Add batch dimension\n",
    "\n",
    "        # Make emotion prediction\n",
    "        prediction = classifier.predict(roi)[0]\n",
    "        predicted_class_index = np.argmax(prediction)\n",
    "        label = emotion_labels[predicted_class_index]\n",
    "\n",
    "        # Check if current emotion label has corresponding music track\n",
    "        if label in music_tracks:\n",
    "            music_file = music_tracks[label]\n",
    "\n",
    "            # Play music\n",
    "            playsound(music_file)\n",
    "\n",
    "        # Draw rectangle and display emotion label on the frame\n",
    "        cv2.rectangle(frame, (x, y), (x + w, y + h), (0, 255, 255), 2)\n",
    "        cv2.putText(frame, label, (x, y - 10), cv2.FONT_HERSHEY_SIMPLEX, 0.9, (0, 255, 0), 2)\n",
    "\n",
    "    # Display the processed frame with emotion predictions\n",
    "    cv2.imshow('Emotion Detector', frame)\n",
    "\n",
    "    # Check if the time limit has been reached\n",
    "    elapsed_time = time.time() - start_time\n",
    "    if elapsed_time >= time_limit:\n",
    "        print(f\"Time limit of {time_limit} seconds reached. Exiting...\")\n",
    "        break\n",
    "\n",
    "    # Check for 'q' key press to quit the application\n",
    "    if cv2.waitKey(1) & 0xFF == ord('q'):\n",
    "        break\n",
    "\n",
    "# Release video capture and close all OpenCV windows\n",
    "cap.release()\n",
    "cv2.destroyAllWindows()\n"
   ]
  },
  {
   "cell_type": "code",
   "execution_count": null,
   "id": "7846fd48",
   "metadata": {},
   "outputs": [],
   "source": []
  }
 ],
 "metadata": {
  "kernelspec": {
   "display_name": "Python 3 (ipykernel)",
   "language": "python",
   "name": "python3"
  },
  "language_info": {
   "codemirror_mode": {
    "name": "ipython",
    "version": 3
   },
   "file_extension": ".py",
   "mimetype": "text/x-python",
   "name": "python",
   "nbconvert_exporter": "python",
   "pygments_lexer": "ipython3",
   "version": "3.11.4"
  }
 },
 "nbformat": 4,
 "nbformat_minor": 5
}
